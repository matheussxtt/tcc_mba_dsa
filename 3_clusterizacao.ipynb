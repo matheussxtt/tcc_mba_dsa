{
 "cells": [
  {
   "cell_type": "markdown",
   "metadata": {},
   "source": [
    "# 3. Clusterização - Base Unificada\n",
    "Aqui a base unificada será padronizada e clusterizada\n"
   ]
  },
  {
   "cell_type": "code",
   "execution_count": null,
   "metadata": {},
   "outputs": [],
   "source": [
    "import pandas as pd\n",
    "#import numpy as np\n",
    "import matplotlib.pyplot as plt\n",
    "import seaborn as sns\n",
    "#import scipy.cluster.hierarchy as sch\n",
    "#import scipy.stats as stats\n",
    "from scipy.stats import zscore\n",
    "from scipy.spatial.distance import pdist\n",
    "#from sklearn.cluster import AgglomerativeClustering\n",
    "from sklearn.cluster import KMeans\n",
    "import pingouin as pg\n",
    "import plotly.express as px \n",
    "import plotly.io as pio\n",
    "from scipy.cluster.hierarchy import fcluster\n",
    "pio.renderers.default='browser'\n",
    "from sklearn.metrics import silhouette_score"
   ]
  },
  {
   "cell_type": "markdown",
   "metadata": {},
   "source": [
    "### Clusterização 1"
   ]
  },
  {
   "cell_type": "code",
   "execution_count": null,
   "metadata": {},
   "outputs": [],
   "source": [
    "base_cluster_completa = pd.read_csv('base_clusterizacao_2023.csv')\n",
    "base_cluster_completa"
   ]
  },
  {
   "cell_type": "code",
   "execution_count": null,
   "metadata": {},
   "outputs": [],
   "source": [
    "base_cluster_completa.columns"
   ]
  },
  {
   "cell_type": "code",
   "execution_count": 4,
   "metadata": {},
   "outputs": [],
   "source": [
    "base_cluster_completa[[ 'taxa_aprovacao_em', 'nota_matematica_em', 'nota_portugues_em',\n",
    "       'nota_media_padronizada_em', 'ideb_em', 'taxa_aprovacao_af',\n",
    "       'nota_matematica_af', 'nota_portugues_af', 'nota_media_padronizada_af',\n",
    "       'ideb_af']].describe().to_excel('describe_performance.xlsx')"
   ]
  },
  {
   "cell_type": "code",
   "execution_count": null,
   "metadata": {},
   "outputs": [],
   "source": [
    "\n",
    "# Colunas quantitativas com valores numéricos padronizados\n",
    "base_cluster_padronizada = base_cluster_completa[[ 'tt_dias_falta_medica_normalizado', 'tt_dias_falta_just_normalizado',\n",
    "       'tt_dias_falta_injust_normalizado', 'tt_dias_lic_premio_normalizado',\n",
    "       'tt_dias_lic_gestante_normalizado', 'tt_dias_lic_acid_trab_normalizado',\n",
    "       'tt_dias_lic_inter_partic_normalizado', 'total_faltas_normalizado',\n",
    "       'taxa_aprovacao_em', 'nota_matematica_em', 'nota_portugues_em',\n",
    "       'nota_media_padronizada_em', 'ideb_em', 'taxa_aprovacao_af',\n",
    "       'nota_matematica_af', 'nota_portugues_af', 'nota_media_padronizada_af',\n",
    "       'ideb_af']].apply(zscore,ddof=1)\n",
    "\n",
    "base_cluster_padronizada.head()"
   ]
  },
  {
   "cell_type": "markdown",
   "metadata": {},
   "source": [
    "#### Elbow"
   ]
  },
  {
   "cell_type": "code",
   "execution_count": null,
   "metadata": {},
   "outputs": [],
   "source": [
    "\n",
    "elbow = []\n",
    "K = range(1,10) # ponto de parada pode ser parametrizado manualmente\n",
    "for k in K:\n",
    "    kmeanElbow = KMeans(n_clusters=k, init='random', random_state=100).fit(base_cluster_padronizada)\n",
    "    elbow.append(kmeanElbow.inertia_)\n",
    "    \n",
    "plt.figure(figsize=(16,8))\n",
    "plt.plot(K, elbow, marker='o')\n",
    "plt.xlabel('Nº Clusters', fontsize=16)\n",
    "plt.xticks(range(1,10)) # ajustar range\n",
    "plt.ylabel('WCSS', fontsize=16)\n",
    "plt.savefig('elbow_primeira_clusterizacao.png', dpi=600)\n",
    "plt.show()"
   ]
  },
  {
   "cell_type": "markdown",
   "metadata": {},
   "source": [
    "#### Silhueta"
   ]
  },
  {
   "cell_type": "code",
   "execution_count": null,
   "metadata": {},
   "outputs": [],
   "source": [
    "silhueta = []\n",
    "I = range(2,10) # ponto de parada pode ser parametrizado manualmente\n",
    "for i in I: \n",
    "    kmeansSil = KMeans(n_clusters=i, init='random', random_state=100).fit(base_cluster_padronizada)\n",
    "    silhueta.append(silhouette_score(base_cluster_padronizada, kmeansSil.labels_))\n",
    "\n",
    "plt.figure(figsize=(16,8))\n",
    "plt.plot(range(2, 10), silhueta, color = 'purple', marker='o')\n",
    "plt.xlabel('Nº Clusters', fontsize=16)\n",
    "plt.ylabel('Silhueta Média', fontsize=16)\n",
    "#plt.title('Método da Silhueta', fontsize=16)\n",
    "plt.axvline(x = silhueta.index(max(silhueta))+2, linestyle = 'dotted', color = 'red') \n",
    "plt.savefig('silhueta_primeira_clusterizacao.png', dpi=600)\n",
    "plt.show()"
   ]
  },
  {
   "cell_type": "markdown",
   "metadata": {},
   "source": [
    "#### Clusterização k-means"
   ]
  },
  {
   "cell_type": "code",
   "execution_count": null,
   "metadata": {},
   "outputs": [],
   "source": [
    "#%% Cluster Não Hierárquico K-means\n",
    "\n",
    "# Considerando que identificamos 3 possíveis clusters na análise hierárquica\n",
    "\n",
    "kmeans = KMeans(n_clusters=2, init='random', random_state=100,n_init='auto').fit(base_cluster_padronizada)\n",
    "\n",
    "# Gerando a variável para identificarmos os clusters gerados\n",
    "\n",
    "kmeans_clusters = kmeans.labels_\n",
    "base_cluster_completa['cluster_kmeans'] = kmeans_clusters\n",
    "base_cluster_padronizada['cluster_kmeans'] = kmeans_clusters\n",
    "\n",
    "\n",
    "base_cluster_completa\n"
   ]
  },
  {
   "cell_type": "markdown",
   "metadata": {},
   "source": [
    "#### Observando as características dos Clusters"
   ]
  },
  {
   "cell_type": "code",
   "execution_count": null,
   "metadata": {},
   "outputs": [],
   "source": [
    "import seaborn as sns\n",
    "\n",
    "# Set the style for the plots\n",
    "sns.set_theme(style=\"whitegrid\")\n",
    "\n",
    "numeric_columns = [\n",
    "     'total_servidores',\n",
    "       'tt_dias_falta_medica_normalizado', 'tt_dias_falta_just_normalizado',\n",
    "       'tt_dias_falta_injust_normalizado', 'tt_dias_lic_premio_normalizado',\n",
    "       'tt_dias_lic_gestante_normalizado', 'tt_dias_lic_acid_trab_normalizado',\n",
    "       'tt_dias_lic_inter_partic_normalizado', 'total_faltas_normalizado'\n",
    "]\n",
    "\n",
    "# Create subplots for each numeric column\n",
    "fig, axes = plt.subplots(nrows=3, ncols=3, figsize=(20, 20))\n",
    "axes = axes.flatten()\n",
    "\n",
    "# Loop through the numeric columns and create a bar chart for each\n",
    "for i, column in enumerate(numeric_columns):\n",
    "    # Calculate mean values grouped by 'cluster_kmeans'\n",
    "    mean_values = base_cluster_completa.groupby('cluster_kmeans')[column].mean().reset_index()\n",
    "    \n",
    "    # Create barplot\n",
    "    sns.barplot(data=mean_values, x='cluster_kmeans', y=column, ax=axes[i])\n",
    "    \n",
    "    # Set titles and labels\n",
    "    axes[i].set_title(f'Média {column} por Cluster KMeans')\n",
    "    axes[i].set_xlabel('Cluster')\n",
    "    axes[i].set_ylabel(f'Média {column}')\n",
    "\n",
    "# Adjust layout for better spacing\n",
    "plt.tight_layout()\n",
    "plt.show()"
   ]
  },
  {
   "cell_type": "code",
   "execution_count": null,
   "metadata": {},
   "outputs": [],
   "source": [
    "import matplotlib.pyplot as plt\n",
    "import seaborn as sns\n",
    "\n",
    "numeric_columns = [ 'taxa_aprovacao_em','nota_matematica_em', 'nota_portugues_em',\n",
    "       'nota_media_padronizada_em', 'ideb_em', 'taxa_aprovacao_af',\n",
    "       'nota_matematica_af', 'nota_portugues_af', 'nota_media_padronizada_af',\n",
    "       'ideb_af'\n",
    "]\n",
    "\n",
    "# Create subplots for each numeric column\n",
    "fig, axes = plt.subplots(nrows=5, ncols=2, figsize=(20, 20))\n",
    "axes = axes.flatten()\n",
    "\n",
    "# Loop through the numeric columns and create a bar chart for each\n",
    "for i, column in enumerate(numeric_columns):\n",
    "    # Calculate mean values grouped by 'cluster_kmeans'\n",
    "    mean_values = base_cluster_completa.groupby('cluster_kmeans')[column].mean().reset_index()\n",
    "    \n",
    "    # Create barplot\n",
    "    sns.barplot(data=mean_values, x='cluster_kmeans', y=column, ax=axes[i])\n",
    "    \n",
    "    # Set dynamic y-axis limits to \"zoom in\"\n",
    "    min_value = mean_values[column].min()\n",
    "    max_value = mean_values[column].max()\n",
    "    axes[i].set_ylim(min_value - 0.1 * (max_value - min_value), max_value + 0.1 * (max_value - min_value))\n",
    "    \n",
    "  # Set titles and labels\n",
    "    axes[i].set_title(f'Média {column} por Cluster KMeans', fontsize=18)\n",
    "    axes[i].set_xlabel('Cluster', fontsize=18)\n",
    "    axes[i].set_ylabel(f'Valor Médio', fontsize=18)\n",
    "\n",
    "# Adjust layout for better spacing\n",
    "plt.tight_layout()\n",
    "plt.show()\n"
   ]
  },
  {
   "cell_type": "markdown",
   "metadata": {},
   "source": [
    "#### Estatísticas F - Determinando se todas as variáveis auxiliaram na formação dos clusters"
   ]
  },
  {
   "cell_type": "code",
   "execution_count": null,
   "metadata": {},
   "outputs": [],
   "source": [
    "lista_variaveis = list(base_cluster_padronizada.columns)\n",
    "#Lista de dicionários com informações sobre as variáveis e seus respectivos testes\n",
    "lista_testes = []\n",
    "\n",
    "#Criando uma lista de testes F para utilização posterior\n",
    "for variavel in lista_variaveis:\n",
    "    if variavel != 'cluster_kmeans':\n",
    "        print(variavel)\n",
    "        teste_f = pg.anova(dv=variavel, \n",
    "            between='cluster_kmeans', \n",
    "            data=base_cluster_padronizada,\n",
    "            detailed=True).T\n",
    "        teste_dict = {'variavel':variavel,'resultados_teste':teste_f}\n",
    "        lista_testes.append(teste_dict)"
   ]
  },
  {
   "cell_type": "code",
   "execution_count": 19,
   "metadata": {},
   "outputs": [],
   "source": [
    "#Estatísticas Descritivas - Cluster 0 \n",
    "base_cluster_completa.query(\"cluster_kmeans == 0\")[['total_faltas_normalizado','ideb_em','ideb_af']].describe().T[['min','25%','50%','75%','max']].to_excel('descritivas_0.xlsx')"
   ]
  },
  {
   "cell_type": "code",
   "execution_count": 12,
   "metadata": {},
   "outputs": [],
   "source": [
    "#Estatísticas Descritivas - Cluster 1\n",
    "base_cluster_completa.query(\"cluster_kmeans == 1\")[['total_faltas_normalizado','ideb_em','ideb_af']].describe().T[['min','25%','50%','75%','max']].to_excel('descritivas_1.xlsx')"
   ]
  },
  {
   "cell_type": "code",
   "execution_count": null,
   "metadata": {},
   "outputs": [],
   "source": [
    "\n",
    "#Estatisticas descritivas agregadas por cluster\n",
    "descritivas_por_cluster = base_cluster_completa[[\n",
    "       'tt_dias_falta_medica_normalizado', 'tt_dias_falta_just_normalizado',\n",
    "       'tt_dias_falta_injust_normalizado', 'tt_dias_lic_premio_normalizado',\n",
    "       'tt_dias_lic_gestante_normalizado', 'tt_dias_lic_acid_trab_normalizado',\n",
    "       'tt_dias_lic_inter_partic_normalizado', 'total_faltas_normalizado',\n",
    "       'taxa_aprovacao_em', 'nota_matematica_em', 'nota_portugues_em',\n",
    "       'nota_media_padronizada_em', 'ideb_em', 'taxa_aprovacao_af',\n",
    "       'nota_matematica_af', 'nota_portugues_af', 'nota_media_padronizada_af',\n",
    "       'ideb_af','cluster_kmeans']].groupby('cluster_kmeans').mean().reset_index()\n",
    "\n",
    "descritivas_por_cluster.drop(columns=['cluster_kmeans']).T"
   ]
  },
  {
   "cell_type": "code",
   "execution_count": null,
   "metadata": {},
   "outputs": [],
   "source": [
    "#Contagem de Municípios por cluster\n",
    "cluster_counts = base_cluster_completa['cluster_kmeans'].value_counts()\n",
    "\n",
    "\n",
    "plt.figure(figsize=(3, 3))\n",
    "plt.pie(cluster_counts, \n",
    "        labels=[f'Cluster {cluster} ({count} - {count/sum(cluster_counts)*100:.2f}%)' \n",
    "                for cluster, count in cluster_counts.items()], \n",
    "        autopct='%1.1f%%', startangle=90)\n",
    "\n",
    "\n",
    "plt.axis('equal')\n",
    "\n",
    "\n",
    "plt.savefig('distribuicao_primeira_clusterizacao.png', dpi=600)\n",
    "plt.show()"
   ]
  },
  {
   "cell_type": "code",
   "execution_count": 27,
   "metadata": {},
   "outputs": [],
   "source": [
    "import pandas as pd\n",
    "#Salvando o resultado dos testes em uma tabela do excel\n",
    "\n",
    "rows = []\n",
    "\n",
    "\n",
    "for entry in lista_testes:\n",
    "    variable_name = entry['variavel']\n",
    "    test_results = entry['resultados_teste']\n",
    "    f_stat = test_results.loc['F'][0]  # F-statistic from column 0\n",
    "    p_value = test_results.loc['p-unc'][0]  # p-value from column 0\n",
    "    rows.append([variable_name, f_stat, p_value])\n",
    "\n",
    "# Create a dataframe from the extracted data\n",
    "result_df = pd.DataFrame(rows, columns=['Test Name', 'F Statistic', 'p-value'])\n",
    "\n",
    "# Display the resulting dataframe\n",
    "result_df.to_excel('estatisticas_f.xlsx',index = False)\n",
    "\n"
   ]
  },
  {
   "cell_type": "markdown",
   "metadata": {},
   "source": [
    "### Clusterização 2 - Cluster com mais faltas\n",
    "Com o objetivo de entender os padrões das faltas em relação aos municípios com mais faltas e pior desempenho, vamos fazer uma segunda clusterização dentro desse cluster "
   ]
  },
  {
   "cell_type": "code",
   "execution_count": null,
   "metadata": {},
   "outputs": [],
   "source": [
    "base_cluster_completa.query(\"cluster_kmeans == 0\").query(\"tt_dias_lic_acid_trab_normalizado > 0\")"
   ]
  },
  {
   "cell_type": "code",
   "execution_count": null,
   "metadata": {},
   "outputs": [],
   "source": [
    "#Vamos eliminar  tt_dias_lic_acid_trab_normalizado, pois possui poucos valores que possuem algum valor\n",
    "# O unico valor pertence a cidade bom jesus dos perdoes\n",
    "base_cluster_completa.query(\"cluster_kmeans == 0\").describe()"
   ]
  },
  {
   "cell_type": "code",
   "execution_count": null,
   "metadata": {},
   "outputs": [],
   "source": [
    "#Cluster + faltas - performance\n",
    "#Como essa é uma análise mais focada no perfil de faltas, vamos eliminar a coluna relacionada ao total de faltas, como estamos focando mais no caráter das faltas, vamos manter apenas o ideb do ensino médio e do fundamental\n",
    "\n",
    "cluster_faltas_padronizado = base_cluster_padronizada.query(\"cluster_kmeans == 0\").drop(columns = ['tt_dias_lic_acid_trab_normalizado','total_faltas_normalizado','cluster_kmeans']).reset_index(drop = True)\n",
    "cluster_faltas = base_cluster_completa.query(\"cluster_kmeans == 0\").drop(columns = ['tt_dias_lic_acid_trab_normalizado','total_faltas_normalizado','cluster_kmeans']).reset_index(drop = True)\n",
    "\n",
    "# Verificando a quantidade final de colunas\n",
    "cluster_faltas.columns"
   ]
  },
  {
   "cell_type": "markdown",
   "metadata": {},
   "source": [
    "#### Elbow"
   ]
  },
  {
   "cell_type": "code",
   "execution_count": null,
   "metadata": {},
   "outputs": [],
   "source": [
    "\n",
    "elbow = []\n",
    "K = range(1,9) # ponto de parada pode ser parametrizado manualmente\n",
    "for k in K:\n",
    "    kmeanElbow_cluster_zero = KMeans(n_clusters=k, init='random', random_state=100).fit(cluster_faltas_padronizado)\n",
    "    elbow.append(kmeanElbow_cluster_zero.inertia_)\n",
    "    \n",
    "plt.figure(figsize=(16,8))\n",
    "plt.plot(K, elbow, marker='o')\n",
    "plt.xlabel('Nº Clusters', fontsize=16)\n",
    "plt.xticks(range(1,9)) # ajustar range\n",
    "plt.ylabel('WCSS', fontsize=16)\n",
    "plt.savefig('elbow_primeira_clusterizacao.png', dpi=600)\n",
    "plt.show()"
   ]
  },
  {
   "cell_type": "markdown",
   "metadata": {},
   "source": [
    "A análise indica que a quantidade ideal de clusters é 2"
   ]
  },
  {
   "cell_type": "markdown",
   "metadata": {},
   "source": [
    "#### Silhueta"
   ]
  },
  {
   "cell_type": "code",
   "execution_count": null,
   "metadata": {},
   "outputs": [],
   "source": [
    "silhueta = []\n",
    "I = range(2,10) # ponto de parada pode ser parametrizado manualmente\n",
    "for i in I: \n",
    "    kmeansSil_cluster_zero = KMeans(n_clusters=i, init='random', random_state=100).fit(cluster_faltas_padronizado)\n",
    "    silhueta.append(silhouette_score(cluster_faltas_padronizado, kmeansSil_cluster_zero.labels_))\n",
    "\n",
    "plt.figure(figsize=(16,8))\n",
    "plt.plot(range(2, 10), silhueta, color = 'purple', marker='o')\n",
    "plt.xlabel('Nº Clusters', fontsize=16)\n",
    "plt.ylabel('Silhueta Média', fontsize=16)\n",
    "#plt.title('Método da Silhueta', fontsize=16)\n",
    "plt.axvline(x = silhueta.index(max(silhueta))+2, linestyle = 'dotted', color = 'red') \n",
    "plt.savefig('subagrupamento_0_silhueta.png', dpi=600)\n",
    "plt.show()"
   ]
  },
  {
   "cell_type": "markdown",
   "metadata": {},
   "source": [
    "A quantidade ideal de clusters é 2"
   ]
  },
  {
   "cell_type": "markdown",
   "metadata": {},
   "source": [
    "#### Clusterização - 2 Clusters"
   ]
  },
  {
   "cell_type": "code",
   "execution_count": null,
   "metadata": {},
   "outputs": [],
   "source": [
    "# As análises indicam que o número ideal de clusters é = a 2, vamos então  prosseguir para a clusterização\n",
    "\n",
    "# Considerando que identificamos 3 possíveis clusters na análise hierárquica\n",
    "\n",
    "kmeans_cluster_zero = KMeans(n_clusters=2, init='random', random_state=100,n_init='auto').fit(cluster_faltas_padronizado)\n",
    "\n",
    "# Gerando a variável para identificarmos os clusters gerados\n",
    "\n",
    "kmeans_clusters_padronizado = kmeans_cluster_zero.labels_\n",
    "cluster_faltas['subcluster_kmeans'] = kmeans_clusters_padronizado\n",
    "cluster_faltas_padronizado['subcluster_kmeans'] = kmeans_clusters_padronizado\n",
    "\n",
    "cluster_faltas\n"
   ]
  },
  {
   "cell_type": "code",
   "execution_count": null,
   "metadata": {},
   "outputs": [],
   "source": [
    "cluster_counts_padronizado = cluster_faltas['subcluster_kmeans'].value_counts()\n",
    "\n",
    "#Distribuição dos municípios da segunda clusterização\n",
    "plt.figure(figsize=(3, 3))\n",
    "plt.pie(cluster_counts_padronizado, \n",
    "        labels=[f'Cluster {cluster} ({count} - {count/sum(cluster_counts_padronizado)*100:.2f}%)' \n",
    "                for cluster, count in cluster_counts_padronizado.items()], \n",
    "        autopct='%1.1f%%', startangle=90)\n",
    "\n",
    "\n",
    "plt.axis('equal')\n",
    "\n",
    "\n",
    "plt.savefig('distribuicao_subagrupamento.png', dpi=600)\n",
    "plt.show()"
   ]
  },
  {
   "cell_type": "code",
   "execution_count": null,
   "metadata": {},
   "outputs": [],
   "source": [
    "#Plotando as médias em paineis \n",
    "import seaborn as sns\n",
    "\n",
    "sns.set_theme(style=\"whitegrid\")\n",
    "\n",
    "numeric_columns = [\n",
    "       'tt_dias_falta_medica_normalizado', 'tt_dias_falta_just_normalizado'\n",
    "]\n",
    "\n",
    "fig, axes = plt.subplots(nrows=1, ncols=2, figsize=(15, 5))\n",
    "axes = axes.flatten()\n",
    "\n",
    "for i, column in enumerate(numeric_columns):\n",
    "    mean_values = cluster_faltas.groupby('subcluster_kmeans')[column].mean().reset_index()\n",
    "    \n",
    "    sns.barplot(data=mean_values, x='subcluster_kmeans', y=column, ax=axes[i])\n",
    "    axes[i].set_title(f'Média {column}')\n",
    "    axes[i].set_xlabel('Cluster')\n",
    "    axes[i].set_ylabel(f'Média {column}')\n",
    "\n",
    "plt.savefig('caracteristicas_subagrupamentos_assiduidade_1.png', dpi=600)\n",
    "\n",
    "plt.tight_layout()\n",
    "plt.show()"
   ]
  },
  {
   "cell_type": "code",
   "execution_count": null,
   "metadata": {},
   "outputs": [],
   "source": [
    "#Plotando as médias em paineis \n",
    "import seaborn as sns\n",
    "\n",
    "\n",
    "sns.set_theme(style=\"whitegrid\")\n",
    "\n",
    "numeric_columns = [\n",
    "\n",
    "       'tt_dias_falta_injust_normalizado', 'tt_dias_lic_premio_normalizado'\n",
    "]\n",
    "\n",
    "\n",
    "fig, axes = plt.subplots(nrows=1, ncols=2, figsize=(15, 5))\n",
    "axes = axes.flatten()\n",
    "\n",
    "for i, column in enumerate(numeric_columns):\n",
    "    mean_values = cluster_faltas.groupby('subcluster_kmeans')[column].mean().reset_index()\n",
    "    \n",
    "    sns.barplot(data=mean_values, x='subcluster_kmeans', y=column, ax=axes[i])\n",
    "    axes[i].set_title(f'Média {column}')\n",
    "    axes[i].set_xlabel('Cluster')\n",
    "    axes[i].set_ylabel(f'Média {column}')\n",
    "\n",
    "\n",
    "plt.savefig('caracteristicas_subagrupamentos_assiduidade_2.png', dpi=600)\n",
    "\n",
    "plt.tight_layout()\n",
    "plt.show()"
   ]
  },
  {
   "cell_type": "code",
   "execution_count": null,
   "metadata": {},
   "outputs": [],
   "source": [
    "import seaborn as sns\n",
    "\n",
    "#Plotando as médias em paineis \n",
    "sns.set_theme(style=\"whitegrid\")\n",
    "\n",
    "numeric_columns = [\n",
    "       'tt_dias_lic_gestante_normalizado',\n",
    "       'tt_dias_lic_inter_partic_normalizado'\n",
    "]\n",
    "\n",
    "fig, axes = plt.subplots(nrows=1, ncols=2, figsize=(15, 5))\n",
    "axes = axes.flatten()\n",
    "\n",
    "\n",
    "for i, column in enumerate(numeric_columns):\n",
    "    mean_values = cluster_faltas.groupby('subcluster_kmeans')[column].mean().reset_index()\n",
    "    \n",
    "    sns.barplot(data=mean_values, x='subcluster_kmeans', y=column, ax=axes[i])\n",
    "    \n",
    "    axes[i].set_title(f'Média {column}')\n",
    "    axes[i].set_xlabel('Cluster')\n",
    "    axes[i].set_ylabel(f'Média {column}')\n",
    "\n",
    "plt.savefig('caracteristicas_subagrupamentos_assiduidade_3.png', dpi=600)\n",
    "\n",
    "plt.tight_layout()\n",
    "plt.show()"
   ]
  },
  {
   "cell_type": "code",
   "execution_count": null,
   "metadata": {},
   "outputs": [],
   "source": [
    "import matplotlib.pyplot as plt\n",
    "import seaborn as sns\n",
    "\n",
    "#Plotando as médias em paineis \n",
    "numeric_columns = [ \n",
    "       'ideb_em',\n",
    "       'ideb_af'\n",
    "]\n",
    "\n",
    "# Create subplots for each numeric column\n",
    "fig, axes = plt.subplots(nrows=1, ncols=2, figsize=(15, 5))\n",
    "axes = axes.flatten()\n",
    "\n",
    "# Loop through the numeric columns and create a bar chart for each\n",
    "for i, column in enumerate(numeric_columns):\n",
    "    # Calculate mean values grouped by 'cluster_kmeans'\n",
    "    mean_values = cluster_faltas.groupby('subcluster_kmeans')[column].mean().reset_index()\n",
    "    \n",
    "    # Create barplot\n",
    "    sns.barplot(data=mean_values, x='subcluster_kmeans', y=column, ax=axes[i])\n",
    "    \n",
    "    # Set dynamic y-axis limits to \"zoom in\"\n",
    "    min_value = mean_values[column].min()\n",
    "    max_value = mean_values[column].max()\n",
    "    axes[i].set_ylim(min_value - 0.1 * (max_value - min_value), max_value + 0.1 * (max_value - min_value))\n",
    "    \n",
    "  # Set titles and labels\n",
    "    axes[i].set_title(f'Média {column} por Cluster KMeans', fontsize=18)\n",
    "    axes[i].set_xlabel('Cluster', fontsize=18)\n",
    "    axes[i].set_ylabel(f'Média {column}', fontsize=18)\n",
    "\n",
    "# Adjust layout for better spacing\n",
    "plt.savefig('caracteristicas_subagrupamentos_performance.png', dpi=600)\n",
    "\n",
    "plt.tight_layout()\n",
    "plt.show()\n"
   ]
  },
  {
   "cell_type": "code",
   "execution_count": null,
   "metadata": {},
   "outputs": [],
   "source": [
    "\n",
    "\n",
    "#Plotando os dados em paineis\n",
    "sns.set_theme(style=\"whitegrid\")\n",
    "\n",
    "numeric_columns = [\n",
    "     'total_servidores',\n",
    "       'tt_dias_falta_medica_normalizado', 'tt_dias_falta_just_normalizado'\n",
    "]\n",
    "\n",
    "\n",
    "fig, axes = plt.subplots(nrows=1, ncols=3, figsize=(15, 5))\n",
    "axes = axes.flatten()\n",
    "\n",
    "\n",
    "for i, column in enumerate(numeric_columns):\n",
    "    mean_values = base_cluster_completa.groupby('cluster_kmeans')[column].mean().reset_index()\n",
    "    \n",
    "    sns.barplot(data=mean_values, x='cluster_kmeans', y=column, ax=axes[i])\n",
    "    \n",
    "    axes[i].set_title(f'Média {column} por Cluster KMeans')\n",
    "    axes[i].set_xlabel('Cluster')\n",
    "    axes[i].set_ylabel(f'Valor médio')\n",
    "\n",
    "\n",
    "\n",
    "\n",
    "plt.tight_layout()\n",
    "\n",
    "plt.savefig('painel_cluster_1.png', dpi=600)\n",
    "plt.show()"
   ]
  },
  {
   "cell_type": "code",
   "execution_count": null,
   "metadata": {},
   "outputs": [],
   "source": [
    "#Plotando os dados em paineis\n",
    "\n",
    "\n",
    "sns.set_theme(style=\"whitegrid\")\n",
    "\n",
    "numeric_columns = [\n",
    "       'tt_dias_falta_injust_normalizado', 'tt_dias_lic_premio_normalizado',\n",
    "       'tt_dias_lic_gestante_normalizado'\n",
    "]\n",
    "\n",
    "\n",
    "fig, axes = plt.subplots(nrows=1, ncols=3, figsize=(15, 5))\n",
    "axes = axes.flatten()\n",
    "\n",
    "\n",
    "for i, column in enumerate(numeric_columns):\n",
    "    mean_values = base_cluster_completa.groupby('cluster_kmeans')[column].mean().reset_index()\n",
    "    \n",
    "\n",
    "    sns.barplot(data=mean_values, x='cluster_kmeans', y=column, ax=axes[i])\n",
    "    \n",
    "\n",
    "    axes[i].set_title(f'Média {column} por Cluster KMeans')\n",
    "    axes[i].set_xlabel('Cluster')\n",
    "    axes[i].set_ylabel(f'Valor médio')\n",
    "\n",
    "\n",
    "plt.tight_layout()\n",
    "plt.savefig('painel_cluster_2.png', dpi=600)\n",
    "plt.show()"
   ]
  },
  {
   "cell_type": "code",
   "execution_count": null,
   "metadata": {},
   "outputs": [],
   "source": [
    "\n",
    "\n",
    "#Plotando os dados em paineis\n",
    "sns.set_theme(style=\"whitegrid\")\n",
    "\n",
    "numeric_columns = [\n",
    "  'tt_dias_lic_acid_trab_normalizado',\n",
    "       'tt_dias_lic_inter_partic_normalizado', 'total_faltas_normalizado'\n",
    "]\n",
    "\n",
    "\n",
    "fig, axes = plt.subplots(nrows=1, ncols=3, figsize=(15, 5))\n",
    "axes = axes.flatten()\n",
    "\n",
    "for i, column in enumerate(numeric_columns):\n",
    "    mean_values = base_cluster_completa.groupby('cluster_kmeans')[column].mean().reset_index()\n",
    "    \n",
    "\n",
    "    sns.barplot(data=mean_values, x='cluster_kmeans', y=column, ax=axes[i])\n",
    "    \n",
    "\n",
    "    axes[i].set_title(f'Média {column} por Cluster KMeans')\n",
    "    axes[i].set_xlabel('Cluster')\n",
    "    axes[i].set_ylabel(f'Valor médio')\n",
    "\n",
    "\n",
    "plt.tight_layout()\n",
    "plt.savefig('painel_cluster_3.png', dpi=600)\n",
    "plt.show()"
   ]
  },
  {
   "cell_type": "code",
   "execution_count": null,
   "metadata": {},
   "outputs": [],
   "source": [
    "#Plotando os dados em paineis\n",
    "\n",
    "numeric_columns = [ 'taxa_aprovacao_em','nota_matematica_em', 'nota_portugues_em',\n",
    "       'nota_media_padronizada_em'\n",
    "]\n",
    "\n",
    "\n",
    "fig, axes = plt.subplots(nrows=2, ncols=2, figsize=(20, 15))\n",
    "axes = axes.flatten()\n",
    "\n",
    "\n",
    "for i, column in enumerate(numeric_columns):\n",
    "    mean_values = base_cluster_completa.groupby('cluster_kmeans')[column].mean().reset_index()\n",
    "    \n",
    "    sns.barplot(data=mean_values, x='cluster_kmeans', y=column, ax=axes[i])\n",
    "    \n",
    "    min_value = mean_values[column].min()\n",
    "    max_value = mean_values[column].max()\n",
    "    axes[i].set_ylim(min_value - 0.1 * (max_value - min_value), max_value + 0.1 * (max_value - min_value))\n",
    "\n",
    "    axes[i].set_title(f'Média {column} por Cluster KMeans', fontsize=18)\n",
    "    axes[i].set_xlabel('Cluster', fontsize=18)\n",
    "    axes[i].set_ylabel(f'Média {column}', fontsize=18)\n",
    "\n",
    "\n",
    "plt.tight_layout()\n",
    "plt.savefig('painel_performance_1.png', dpi=600)\n",
    "plt.show()\n"
   ]
  },
  {
   "cell_type": "code",
   "execution_count": null,
   "metadata": {},
   "outputs": [],
   "source": [
    "import matplotlib.pyplot as plt\n",
    "import seaborn as sns\n",
    "\n",
    "#Plotando os dados em paineis\n",
    "\n",
    "numeric_columns = [ 'taxa_aprovacao_em','nota_matematica_em', 'nota_portugues_em',\n",
    "       'nota_media_padronizada_em', 'ideb_em', 'taxa_aprovacao_af',\n",
    "       'nota_matematica_af', 'nota_portugues_af', 'nota_media_padronizada_af',\n",
    "       'ideb_af'\n",
    "]\n",
    "\n",
    "\n",
    "fig, axes = plt.subplots(nrows=5, ncols=2, figsize=(20, 20))\n",
    "axes = axes.flatten()\n",
    "\n",
    "for i, column in enumerate(numeric_columns):\n",
    "    mean_values = base_cluster_completa.groupby('cluster_kmeans')[column].mean().reset_index()\n",
    "    \n",
    "\n",
    "    sns.barplot(data=mean_values, x='cluster_kmeans', y=column, ax=axes[i])\n",
    "    \n",
    "\n",
    "    min_value = mean_values[column].min()\n",
    "    max_value = mean_values[column].max()\n",
    "    axes[i].set_ylim(min_value - 0.1 * (max_value - min_value), max_value + 0.1 * (max_value - min_value))\n",
    "    \n",
    "\n",
    "    axes[i].set_title(f'Média {column} por Cluster KMeans', fontsize=18)\n",
    "    axes[i].set_xlabel('Cluster', fontsize=18)\n",
    "    axes[i].set_ylabel(f'Média {column}', fontsize=18)\n",
    "\n",
    "\n",
    "plt.tight_layout()\n",
    "plt.savefig('painel_performance_1.png', dpi=600)\n",
    "plt.show()\n"
   ]
  }
 ],
 "metadata": {
  "kernelspec": {
   "display_name": "base",
   "language": "python",
   "name": "python3"
  },
  "language_info": {
   "codemirror_mode": {
    "name": "ipython",
    "version": 3
   },
   "file_extension": ".py",
   "mimetype": "text/x-python",
   "name": "python",
   "nbconvert_exporter": "python",
   "pygments_lexer": "ipython3",
   "version": "3.11.5"
  }
 },
 "nbformat": 4,
 "nbformat_minor": 2
}
